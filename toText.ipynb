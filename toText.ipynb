{
 "cells": [
  {
   "cell_type": "code",
   "execution_count": null,
   "metadata": {},
   "outputs": [],
   "source": [
    "# %pip install SpeechRecognition\n",
    "# %pip install librosa"
   ]
  },
  {
   "cell_type": "code",
   "execution_count": 1,
   "metadata": {},
   "outputs": [
    {
     "ename": "",
     "evalue": "",
     "output_type": "error",
     "traceback": [
      "\u001b[1;31mCanceled future for execute_request message before replies were done"
     ]
    },
    {
     "ename": "",
     "evalue": "",
     "output_type": "error",
     "traceback": [
      "\u001b[1;31m현재 셀 또는 이전 셀에서 코드를 실행하는 동안 Kernel이 충돌했습니다. 셀의 코드를 검토하여 오류의 가능한 원인을 식별하세요. 자세한 내용을 보려면 <a href='https://aka.ms/vscodeJupyterKernelCrash'> 여기 </a> 를 클릭하세요. 자세한 내용은 Jupyter <a href='command:jupyter.viewOutput'>로그</a>를 참조하세요."
     ]
    }
   ],
   "source": [
    "from curses.textpad import Textbox\n",
    "import speech_recognition as sr\n",
    "import librosa\n",
    "from tkinter import *\n",
    "from tkinter import filedialog\n",
    "\n",
    "r = sr.Recognizer()\n",
    "\n",
    "whdth, height = 500 , 150\n",
    "\n",
    "tk = Tk()\n",
    "tk.title(\"음성파일 -> 문자열\")\n",
    "tk.geometry('{0}x{1}'.format(whdth, height))\n",
    "tk.resizable(False, False)\n",
    "\n",
    "\n",
    "def event():\n",
    "    path = filedialog.askopenfilename(filetypes=[('Sound File', '.wav'),('Sound File', '.mp3')])\n",
    "    path = path.replace('\\\\','/')\n",
    "    button['text'] = '파일 선택됨!'\n",
    "    korean_audio = sr.AudioFile(path)\n",
    "    with korean_audio as source:\n",
    "        audio = r.record(source)\n",
    "    label['text'] = r.recognize_google(audio_data=audio, language='ko-KR')\n",
    "    \n",
    "label = Label(tk, text='파일을 선택하면 문자로 바꿔줘요~', font=25)\n",
    "button = Button(tk,text='음성파일 찾기',command=event)\n",
    "\n",
    "label.pack(side=TOP, pady=20)\n",
    "button.pack(side=BOTTOM, pady=20) #side로 배치설정, padx로 좌우 여백설정, pady로 상하 여백설정 \n",
    "\n",
    "\n",
    "tk.mainloop()"
   ]
  }
 ],
 "metadata": {
  "kernelspec": {
   "display_name": "Python 3.10.2 64-bit",
   "language": "python",
   "name": "python3"
  },
  "language_info": {
   "codemirror_mode": {
    "name": "ipython",
    "version": 3
   },
   "file_extension": ".py",
   "mimetype": "text/x-python",
   "name": "python",
   "nbconvert_exporter": "python",
   "pygments_lexer": "ipython3",
   "version": "3.10.2"
  },
  "orig_nbformat": 4,
  "vscode": {
   "interpreter": {
    "hash": "aee8b7b246df8f9039afb4144a1f6fd8d2ca17a180786b69acc140d282b71a49"
   }
  }
 },
 "nbformat": 4,
 "nbformat_minor": 2
}
